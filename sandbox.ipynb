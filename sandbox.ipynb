{
 "cells": [
  {
   "cell_type": "code",
   "execution_count": 155,
   "metadata": {
    "collapsed": true
   },
   "outputs": [],
   "source": [
    "import random\n",
    "\n",
    "import torch\n",
    "import torch.nn as nn\n",
    "import torch.nn.functional as F\n",
    "from torch.autograd import Variable"
   ]
  },
  {
   "cell_type": "code",
   "execution_count": 51,
   "metadata": {
    "collapsed": true
   },
   "outputs": [],
   "source": [
    "seq_len = 21\n",
    "# vocab_size = 1000\n",
    "embd_size = 200\n",
    "kernel = (5, embd_size)\n",
    "out_chs = 64\n",
    "batch_size = 11\n",
    "ans_size = 100"
   ]
  },
  {
   "cell_type": "code",
   "execution_count": 76,
   "metadata": {
    "collapsed": true
   },
   "outputs": [],
   "source": [
    "def to_var(x):\n",
    "    if torch.cuda.is_available():\n",
    "        x = x.cuda()\n",
    "    return Variable(x)"
   ]
  },
  {
   "cell_type": "code",
   "execution_count": 145,
   "metadata": {},
   "outputs": [
    {
     "name": "stdout",
     "output_type": "stream",
     "text": [
      "vocab_size 1504\n"
     ]
    }
   ],
   "source": [
    "def read_words(fpath, seq_len, filter_h):\n",
    "    words = []\n",
    "    with open(fpath, 'r') as f:\n",
    "        lines = f.readlines()\n",
    "        for line in lines[:5000]:\n",
    "            tokens = line.split()\n",
    "            # TODO only choose specified length sentence\n",
    "            if len(tokens) == seq_len - 2:\n",
    "                words.extend((['<pad>']*int(filter_h/2)) + ['<s>'] + tokens + ['</s>'])\n",
    "\n",
    "    return words\n",
    "\n",
    "words = read_words('./data/news.en-00001-of-00100', seq_len, kernel[0])\n",
    "# words[:50]\n",
    "vocab = []\n",
    "for w in words:\n",
    "    if w not in vocab:\n",
    "        vocab.append(w)\n",
    "vocab_size = len(vocab)\n",
    "w2i = {'<unk>': 0}\n",
    "w2i = dict((w, i) for i, w in enumerate(vocab, 1))\n",
    "print('vocab_size', len(vocab))\n",
    "data = [w2i[w] for w in words]"
   ]
  },
  {
   "cell_type": "code",
   "execution_count": 149,
   "metadata": {},
   "outputs": [],
   "source": [
    "def create_batches(data, batch_size, seq_len):\n",
    "#     num_batches = int(len(data) / (batch_size*seq_len))\n",
    "    ret_data = []\n",
    "    X, Y = [], []\n",
    "    for i in range(0, len(data)-(seq_len+1), seq_len):\n",
    "        X.append(data[i:i+seq_len])\n",
    "        Y.append(data[i+seq_len])\n",
    "    for i in range(0, len(X)-batch_size, batch_size):\n",
    "        ret_data.append((X[i:i+batch_size], Y[i:i+batch_size]))\n",
    "    return ret_data\n",
    "training_data = create_batches(data, batch_size, seq_len)"
   ]
  },
  {
   "cell_type": "code",
   "execution_count": 154,
   "metadata": {},
   "outputs": [
    {
     "data": {
      "text/plain": [
       "[20, 37, 50, 13, 73, 87, 50, 51, 48, 131, 1]"
      ]
     },
     "execution_count": 154,
     "metadata": {},
     "output_type": "execute_result"
    }
   ],
   "source": [
    "len(training_data[0])\n",
    "training_data[0][1]"
   ]
  },
  {
   "cell_type": "code",
   "execution_count": 162,
   "metadata": {},
   "outputs": [],
   "source": [
    "# In : (N, sentence_len)\n",
    "# Out: (N, sentence_len, embd_size)\n",
    "class GatedCNN(nn.Module):\n",
    "    def __init__(self, seq_len, vocab_size, embd_size, kernel, out_chs, ans_size):\n",
    "        super(GatedCNN, self).__init__()\n",
    "        self.embd_size = embd_size\n",
    "        self.embedding = nn.Embedding(vocab_size, embd_size)\n",
    "        # nn.Conv1d(in_channels, out_channels, kernel_size, stride=1, padding=0, ...\n",
    "        self.conv      = nn.Conv2d(1, out_chs, kernel, padding=(2, 0)) # )2, 99\n",
    "        self.conv_gate = nn.Conv2d(1, out_chs, kernel, padding=(2, 0)) # )2, 99\n",
    "        # todo bias\n",
    "        \n",
    "        self.conv2      = nn.Conv2d(out_chs, out_chs, (kernel[0], 1), padding=(2, 0)) # )2, 99\n",
    "        self.conv_gate2 = nn.Conv2d(out_chs, out_chs, (kernel[0], 1), padding=(2, 0)) # )2, 99\n",
    "        \n",
    "        self.fc = nn.Linear(out_chs*seq_len, ans_size)\n",
    "\n",
    "    def forward(self, x):\n",
    "        # x: (N, seq_len)\n",
    "        # Embedding\n",
    "        bs = x.size(0) # batch size\n",
    "        seq_len = x.size(1) # number of words in a sentence\n",
    "        x = self.embedding(x) # (bs, word_len, embd_size)\n",
    "\n",
    "        # CNN\n",
    "        x = x.unsqueeze(1) # (bs, Cin, seq_len, embd_size), insert Channnel-In dim\n",
    "        # Conv2d\n",
    "        #    Input : (bs, Cin, Hin, Win )\n",
    "        #    Output: (bs, Cout,Hout,Wout) \n",
    "        A = self.conv(x) # (bs, Cout, seq_len, 1?)\n",
    "        B = self.conv_gate(x) # (bs, Cout, seq_len, 1?)\n",
    "        h0 = A * F.sigmoid(B) # (bs, Cout, seq_len, 1?)\n",
    "        \n",
    "        A2 = self.conv2(h0)\n",
    "        B2 = self.conv_gate2(h0)\n",
    "        h1 = A2 * F.sigmoid(B2) # (bs, Cout, seq_len, 1?)\n",
    "        \n",
    "        # todo residual\n",
    "        \n",
    "        hL = h1 # (bs, Cout, seq_len, 1?)\n",
    "        hL = hL.view(bs, -1) # (bs, Cout*seq_len)\n",
    "        out = self.fc(hL) # (bs, ans_size)\n",
    "        \n",
    "        out = F.log_softmax(out)\n",
    "        return out\n",
    "\n",
    "model = GatedCNN(seq_len, vocab_size, embd_size, kernel, out_chs, vocab_size)\n",
    "if torch.cuda.is_available():\n",
    "    model.cuda()"
   ]
  },
  {
   "cell_type": "code",
   "execution_count": 163,
   "metadata": {},
   "outputs": [
    {
     "name": "stdout",
     "output_type": "stream",
     "text": [
      "epoch 0\n",
      "loss: 7.3353\n",
      "loss: 5.5012\n",
      "epoch 1\n",
      "loss: 3.4595\n",
      "loss: 4.3060\n",
      "epoch 2\n",
      "loss: 1.9070\n",
      "loss: 0.2825\n",
      "epoch 3\n",
      "loss: 0.0219\n",
      "loss: 0.0005\n",
      "epoch 4\n",
      "loss: 0.0012\n",
      "loss: 0.0029\n",
      "epoch 5\n",
      "loss: 0.0014\n",
      "loss: 0.0013\n",
      "epoch 6\n",
      "loss: 0.0009\n",
      "loss: 0.0016\n",
      "epoch 7\n",
      "loss: 0.0005\n",
      "loss: 0.0005\n",
      "epoch 8\n",
      "loss: 0.0005\n",
      "loss: 0.0003\n",
      "epoch 9\n",
      "loss: 0.0004\n",
      "loss: 0.0002\n"
     ]
    }
   ],
   "source": [
    "def train(model, data, optimizer, loss_fn, n_epoch=10):\n",
    "    for epoch in range(n_epoch):\n",
    "        print('epoch', epoch)\n",
    "        random.shuffle(data)\n",
    "        for batch_ct, (X, Y) in enumerate(data):\n",
    "            X = to_var(torch.LongTensor(X)) # (bs, seq_len)\n",
    "            Y = to_var(torch.LongTensor(Y)) # (bs,)\n",
    "            pred = model(X) # (bs, ans_size)\n",
    "            loss = loss_fn(pred, Y)\n",
    "            if batch_ct % 10 == 0:\n",
    "                print('loss: {:.4f}'.format(loss.data[0]))\n",
    "            optimizer.zero_grad()\n",
    "            loss.backward()\n",
    "            optimizer.step()\n",
    "\n",
    "optimizer = torch.optim.Adadelta(model.parameters())\n",
    "loss_fn = nn.NLLLoss()\n",
    "train(model, training_data, optimizer, loss_fn)"
   ]
  },
  {
   "cell_type": "code",
   "execution_count": null,
   "metadata": {
    "collapsed": true
   },
   "outputs": [],
   "source": []
  }
 ],
 "metadata": {
  "kernelspec": {
   "display_name": "Python 3",
   "language": "python",
   "name": "python3"
  },
  "language_info": {
   "codemirror_mode": {
    "name": "ipython",
    "version": 3
   },
   "file_extension": ".py",
   "mimetype": "text/x-python",
   "name": "python",
   "nbconvert_exporter": "python",
   "pygments_lexer": "ipython3",
   "version": "3.6.1"
  }
 },
 "nbformat": 4,
 "nbformat_minor": 2
}
